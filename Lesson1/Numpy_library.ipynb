{
 "cells": [
  {
   "cell_type": "code",
   "execution_count": 1,
   "id": "75a8d441-50ff-43ac-99e0-06db8584b60e",
   "metadata": {},
   "outputs": [],
   "source": [
    "import numpy as np"
   ]
  },
  {
   "cell_type": "code",
   "execution_count": 2,
   "id": "78d73c13-9741-459d-907d-008c924bd168",
   "metadata": {},
   "outputs": [
    {
     "data": {
      "text/plain": [
       "array([1, 2, 3, 4])"
      ]
     },
     "execution_count": 2,
     "metadata": {},
     "output_type": "execute_result"
    }
   ],
   "source": [
    "np.array([1,2,3,4])"
   ]
  },
  {
   "cell_type": "code",
   "execution_count": 3,
   "id": "c97407fc-ee2c-4704-ab70-d72c43c11c13",
   "metadata": {},
   "outputs": [
    {
     "data": {
      "text/plain": [
       "array(['a', 'b'], dtype='<U1')"
      ]
     },
     "execution_count": 3,
     "metadata": {},
     "output_type": "execute_result"
    }
   ],
   "source": [
    "np.array(['a', 'b'])"
   ]
  },
  {
   "cell_type": "code",
   "execution_count": 4,
   "id": "9a921479-50ef-442e-a741-7de891ea9e77",
   "metadata": {},
   "outputs": [
    {
     "data": {
      "text/plain": [
       "array(['a', '1', 'True'], dtype='<U21')"
      ]
     },
     "execution_count": 4,
     "metadata": {},
     "output_type": "execute_result"
    }
   ],
   "source": [
    "np.array(['a', 1, True])"
   ]
  },
  {
   "cell_type": "markdown",
   "id": "48c6de52-04ff-47d9-9e4d-f4075eacabdf",
   "metadata": {},
   "source": [
    "array cannot have elements with different type, when you try it it will be convert to most general type (in that case -> str)"
   ]
  },
  {
   "cell_type": "code",
   "execution_count": 5,
   "id": "e2fd5979-6868-4108-bcde-b035832d9abd",
   "metadata": {},
   "outputs": [
    {
     "data": {
      "text/plain": [
       "array([1, 2, 3, 4])"
      ]
     },
     "execution_count": 5,
     "metadata": {},
     "output_type": "execute_result"
    }
   ],
   "source": [
    "x = np.array([1,2,3,4])\n",
    "x"
   ]
  },
  {
   "cell_type": "code",
   "execution_count": 6,
   "id": "17f14789-c674-4520-b559-3f3771ab5e11",
   "metadata": {},
   "outputs": [
    {
     "data": {
      "text/plain": [
       "3"
      ]
     },
     "execution_count": 6,
     "metadata": {},
     "output_type": "execute_result"
    }
   ],
   "source": [
    "x[2]"
   ]
  },
  {
   "cell_type": "code",
   "execution_count": 7,
   "id": "f6eaed1d-2a37-4f91-972c-01ce1a6df3e6",
   "metadata": {},
   "outputs": [
    {
     "data": {
      "text/plain": [
       "array([2, 3])"
      ]
     },
     "execution_count": 7,
     "metadata": {},
     "output_type": "execute_result"
    }
   ],
   "source": [
    "x[1:3]"
   ]
  },
  {
   "cell_type": "code",
   "execution_count": 8,
   "id": "528ac5a5-d5a0-4581-8a7f-69640ec7fea4",
   "metadata": {},
   "outputs": [
    {
     "data": {
      "text/plain": [
       "array([1, 2, 3])"
      ]
     },
     "execution_count": 8,
     "metadata": {},
     "output_type": "execute_result"
    }
   ],
   "source": [
    "x[:3]"
   ]
  },
  {
   "cell_type": "code",
   "execution_count": 9,
   "id": "c412e13e-7c9d-4d06-98c7-459756e0f092",
   "metadata": {},
   "outputs": [
    {
     "data": {
      "text/plain": [
       "array([3, 1, 4])"
      ]
     },
     "execution_count": 9,
     "metadata": {},
     "output_type": "execute_result"
    }
   ],
   "source": [
    "x[[2,0,3]]"
   ]
  },
  {
   "cell_type": "code",
   "execution_count": 10,
   "id": "f7332865-fa9e-4379-a2bc-5913abe98e5f",
   "metadata": {},
   "outputs": [
    {
     "data": {
      "text/plain": [
       "array([1, 4])"
      ]
     },
     "execution_count": 10,
     "metadata": {},
     "output_type": "execute_result"
    }
   ],
   "source": [
    "x[[True, False, False, True]]"
   ]
  },
  {
   "cell_type": "code",
   "execution_count": 11,
   "id": "23551995-5643-4b11-bdd5-67726200a504",
   "metadata": {},
   "outputs": [
    {
     "data": {
      "text/plain": [
       "array([ 1, 20, 30,  4])"
      ]
     },
     "execution_count": 11,
     "metadata": {},
     "output_type": "execute_result"
    }
   ],
   "source": [
    "x[1:3] = [20, 30]\n",
    "x"
   ]
  },
  {
   "cell_type": "markdown",
   "id": "fa787e46-a4e4-4df7-bc5c-b1295111be4b",
   "metadata": {},
   "source": [
    "when you want use it numer of elements for both side should be equal, except when you want change all elements to the same value"
   ]
  },
  {
   "cell_type": "code",
   "execution_count": 12,
   "id": "7b48690d-4f47-4064-a532-9849e51e12a7",
   "metadata": {},
   "outputs": [
    {
     "data": {
      "text/plain": [
       "array([  1, 100, 100,   4])"
      ]
     },
     "execution_count": 12,
     "metadata": {},
     "output_type": "execute_result"
    }
   ],
   "source": [
    "x[1:3] = 100\n",
    "x"
   ]
  },
  {
   "cell_type": "markdown",
   "id": "4e8ebc7f-f8b4-489e-bad9-bf6ca10ed765",
   "metadata": {},
   "source": [
    "FUNKCJE AGREGUJĄCE"
   ]
  },
  {
   "cell_type": "code",
   "execution_count": 13,
   "id": "e94111dc-8685-49d1-903f-5eb43b7c7ad8",
   "metadata": {},
   "outputs": [
    {
     "data": {
      "text/plain": [
       "array([1, 2, 3, 4])"
      ]
     },
     "execution_count": 13,
     "metadata": {},
     "output_type": "execute_result"
    }
   ],
   "source": [
    "x = np.array([1, 2, 3, 4])\n",
    "x"
   ]
  },
  {
   "cell_type": "code",
   "execution_count": 14,
   "id": "c4271eef-9e44-4513-bd2d-9896a9defe07",
   "metadata": {},
   "outputs": [
    {
     "data": {
      "text/plain": [
       "4"
      ]
     },
     "execution_count": 14,
     "metadata": {},
     "output_type": "execute_result"
    }
   ],
   "source": [
    "len(x)"
   ]
  },
  {
   "cell_type": "code",
   "execution_count": 15,
   "id": "fc8fe6bd-8d14-4fbc-bb57-8b42875e1014",
   "metadata": {},
   "outputs": [
    {
     "data": {
      "text/plain": [
       "10"
      ]
     },
     "execution_count": 15,
     "metadata": {},
     "output_type": "execute_result"
    }
   ],
   "source": [
    "np.sum(x)"
   ]
  },
  {
   "cell_type": "code",
   "execution_count": 16,
   "id": "920207b6-b3fc-4527-b113-3972f9030fed",
   "metadata": {},
   "outputs": [
    {
     "data": {
      "text/plain": [
       "10"
      ]
     },
     "execution_count": 16,
     "metadata": {},
     "output_type": "execute_result"
    }
   ],
   "source": [
    "sum(x)"
   ]
  },
  {
   "cell_type": "code",
   "execution_count": 17,
   "id": "859be5ad-3bd0-4a94-b8c4-728a1d3f298c",
   "metadata": {},
   "outputs": [
    {
     "data": {
      "text/plain": [
       "4"
      ]
     },
     "execution_count": 17,
     "metadata": {},
     "output_type": "execute_result"
    }
   ],
   "source": [
    "np.max(x)"
   ]
  },
  {
   "cell_type": "code",
   "execution_count": 18,
   "id": "09da44c8-099c-4aa5-af60-79dc95a9696d",
   "metadata": {},
   "outputs": [
    {
     "data": {
      "text/plain": [
       "1"
      ]
     },
     "execution_count": 18,
     "metadata": {},
     "output_type": "execute_result"
    }
   ],
   "source": [
    "np.min(x)"
   ]
  },
  {
   "cell_type": "code",
   "execution_count": 19,
   "id": "32932485-c5d6-42bd-b090-58a3ac7f1012",
   "metadata": {},
   "outputs": [
    {
     "data": {
      "text/plain": [
       "2.5"
      ]
     },
     "execution_count": 19,
     "metadata": {},
     "output_type": "execute_result"
    }
   ],
   "source": [
    "np.mean(x) #średnia"
   ]
  },
  {
   "cell_type": "code",
   "execution_count": 20,
   "id": "5f2fca19-8ead-4d8e-a320-bf330842e9a2",
   "metadata": {},
   "outputs": [
    {
     "data": {
      "text/plain": [
       "1.118033988749895"
      ]
     },
     "execution_count": 20,
     "metadata": {},
     "output_type": "execute_result"
    }
   ],
   "source": [
    "np.std(x) #odchylenie standardowe"
   ]
  },
  {
   "cell_type": "code",
   "execution_count": 21,
   "id": "f95cb7a3-5f34-40c2-8dab-c6ad68438fcd",
   "metadata": {},
   "outputs": [
    {
     "data": {
      "text/plain": [
       "array([ True, False, False, False, False, False])"
      ]
     },
     "execution_count": 21,
     "metadata": {},
     "output_type": "execute_result"
    }
   ],
   "source": [
    "y = np.array([True, False, False, False, False, False])\n",
    "y"
   ]
  },
  {
   "cell_type": "code",
   "execution_count": 22,
   "id": "e62371fb-5209-4c72-a93d-8470600023da",
   "metadata": {},
   "outputs": [
    {
     "data": {
      "text/plain": [
       "True"
      ]
     },
     "execution_count": 22,
     "metadata": {},
     "output_type": "execute_result"
    }
   ],
   "source": [
    "np.any(y) # sprawdza czy chociaż jeden z elementów jest prawdziwy"
   ]
  },
  {
   "cell_type": "code",
   "execution_count": 23,
   "id": "2fd909f6-d3dc-4ee4-a157-cd86eafb46ac",
   "metadata": {},
   "outputs": [
    {
     "data": {
      "text/plain": [
       "False"
      ]
     },
     "execution_count": 23,
     "metadata": {},
     "output_type": "execute_result"
    }
   ],
   "source": [
    "np.all(y) # sprawdza czy wszystkie są prawdziwe"
   ]
  },
  {
   "cell_type": "code",
   "execution_count": 24,
   "id": "d77019a4-a832-46e6-ba8a-8f52a302520d",
   "metadata": {},
   "outputs": [
    {
     "name": "stdout",
     "output_type": "stream",
     "text": [
      "2.5\n"
     ]
    }
   ],
   "source": [
    "# Średnia na dwa sposoby:\n",
    "print(np.mean(x))\n"
   ]
  },
  {
   "cell_type": "code",
   "execution_count": 25,
   "id": "0fe2d711-a5f1-4285-a81e-5d45d01653cd",
   "metadata": {},
   "outputs": [
    {
     "name": "stdout",
     "output_type": "stream",
     "text": [
      "[1 2 3 4]\n"
     ]
    }
   ],
   "source": [
    "print(x)"
   ]
  },
  {
   "cell_type": "code",
   "execution_count": 26,
   "id": "6abdb2b1-2c93-483c-b157-c71d482d7988",
   "metadata": {},
   "outputs": [
    {
     "data": {
      "text/plain": [
       "2.5"
      ]
     },
     "execution_count": 26,
     "metadata": {},
     "output_type": "execute_result"
    }
   ],
   "source": [
    "x.mean()"
   ]
  },
  {
   "cell_type": "markdown",
   "id": "b8e6e5a5-3a24-43d7-b32e-a1c9e19f5105",
   "metadata": {},
   "source": [
    "# Operacje zwektoryzowane"
   ]
  },
  {
   "cell_type": "code",
   "execution_count": 27,
   "id": "81f85046-554d-41ec-9d97-f7df7c86fb1a",
   "metadata": {},
   "outputs": [],
   "source": [
    "x = np.array([0, 1, 2, 3, 4])\n",
    "y = np.array([0, 10, 20, 30, 40])"
   ]
  },
  {
   "cell_type": "code",
   "execution_count": 28,
   "id": "d2d9d0e9-69a3-4ee6-a1a0-72ecc2e02b21",
   "metadata": {},
   "outputs": [
    {
     "data": {
      "text/plain": [
       "array([ 0, 11, 22, 33, 44])"
      ]
     },
     "execution_count": 28,
     "metadata": {},
     "output_type": "execute_result"
    }
   ],
   "source": [
    "x + y"
   ]
  },
  {
   "cell_type": "code",
   "execution_count": 29,
   "id": "b13e4844-d8bb-4daa-9b5f-1b89b0ac9ca4",
   "metadata": {},
   "outputs": [
    {
     "data": {
      "text/plain": [
       "array([100, 101, 102, 103, 104])"
      ]
     },
     "execution_count": 29,
     "metadata": {},
     "output_type": "execute_result"
    }
   ],
   "source": [
    "x + 100"
   ]
  },
  {
   "cell_type": "code",
   "execution_count": 30,
   "id": "6e435ec5-65dc-47fd-a3a0-10b680bb92d5",
   "metadata": {},
   "outputs": [
    {
     "ename": "ValueError",
     "evalue": "operands could not be broadcast together with shapes (5,) (2,) ",
     "output_type": "error",
     "traceback": [
      "\u001b[0;31m---------------------------------------------------------------------------\u001b[0m",
      "\u001b[0;31mValueError\u001b[0m                                Traceback (most recent call last)",
      "Cell \u001b[0;32mIn[30], line 1\u001b[0m\n\u001b[0;32m----> 1\u001b[0m x \u001b[38;5;241m+\u001b[39m np\u001b[38;5;241m.\u001b[39marray([\u001b[38;5;241m1\u001b[39m, \u001b[38;5;241m2\u001b[39m])\n",
      "\u001b[0;31mValueError\u001b[0m: operands could not be broadcast together with shapes (5,) (2,) "
     ]
    }
   ],
   "source": [
    "x + np.array([1, 2])"
   ]
  },
  {
   "cell_type": "code",
   "execution_count": null,
   "id": "2e5d5549-6c97-433e-bd16-6dc2fc748cca",
   "metadata": {},
   "outputs": [],
   "source": [
    "x - y"
   ]
  },
  {
   "cell_type": "code",
   "execution_count": 31,
   "id": "77484d81-873c-40be-a3f3-9d1c07b9d71c",
   "metadata": {},
   "outputs": [
    {
     "data": {
      "text/plain": [
       "array([ 0,  9, 18, 27, 36])"
      ]
     },
     "execution_count": 31,
     "metadata": {},
     "output_type": "execute_result"
    }
   ],
   "source": [
    "np.abs(x - y)"
   ]
  },
  {
   "cell_type": "code",
   "execution_count": 32,
   "id": "032058be-6e61-45a1-9345-2733ee3f755b",
   "metadata": {},
   "outputs": [
    {
     "data": {
      "text/plain": [
       "18.0"
      ]
     },
     "execution_count": 32,
     "metadata": {},
     "output_type": "execute_result"
    }
   ],
   "source": [
    "np.mean(np.abs(x - y))"
   ]
  },
  {
   "cell_type": "code",
   "execution_count": 33,
   "id": "f0dea704-d20f-47d7-a8e5-456f240cbc8e",
   "metadata": {},
   "outputs": [
    {
     "data": {
      "text/plain": [
       "array([   0,   81,  324,  729, 1296])"
      ]
     },
     "execution_count": 33,
     "metadata": {},
     "output_type": "execute_result"
    }
   ],
   "source": [
    "(x - y)**2"
   ]
  },
  {
   "cell_type": "code",
   "execution_count": 34,
   "id": "1661051e-8c22-46c3-8bae-700ee9d869b5",
   "metadata": {},
   "outputs": [
    {
     "data": {
      "text/plain": [
       "2430"
      ]
     },
     "execution_count": 34,
     "metadata": {},
     "output_type": "execute_result"
    }
   ],
   "source": [
    "np.sum((x - y)**2)"
   ]
  },
  {
   "cell_type": "code",
   "execution_count": 35,
   "id": "b58741ef-c6d5-4e17-93b9-547ba5d070b9",
   "metadata": {},
   "outputs": [
    {
     "data": {
      "text/plain": [
       "array([0.        , 3.        , 4.24264069, 5.19615242, 6.        ])"
      ]
     },
     "execution_count": 35,
     "metadata": {},
     "output_type": "execute_result"
    }
   ],
   "source": [
    "np.sqrt(np.abs(x - y))"
   ]
  },
  {
   "cell_type": "code",
   "execution_count": 36,
   "id": "004183b4-80dd-4be7-8cb3-f253b8fd6fb0",
   "metadata": {},
   "outputs": [
    {
     "data": {
      "text/plain": [
       "array([ 0,  1,  8, 27, 64])"
      ]
     },
     "execution_count": 36,
     "metadata": {},
     "output_type": "execute_result"
    }
   ],
   "source": [
    "np.power(x, 3)"
   ]
  },
  {
   "cell_type": "code",
   "execution_count": 37,
   "id": "f1158fcb-a3af-41e8-a5c3-d42fbd21bc00",
   "metadata": {},
   "outputs": [
    {
     "data": {
      "text/plain": [
       "array([              1,               1,         1048576, 205891132094649,\n",
       "                     0])"
      ]
     },
     "execution_count": 37,
     "metadata": {},
     "output_type": "execute_result"
    }
   ],
   "source": [
    "np.power(x, y)"
   ]
  },
  {
   "cell_type": "code",
   "execution_count": 38,
   "id": "b4b4f0f7-d410-4429-b7db-ac7a79007e5b",
   "metadata": {},
   "outputs": [
    {
     "data": {
      "text/plain": [
       "array([False, False, False, False, False])"
      ]
     },
     "execution_count": 38,
     "metadata": {},
     "output_type": "execute_result"
    }
   ],
   "source": [
    "x > y"
   ]
  },
  {
   "cell_type": "code",
   "execution_count": 39,
   "id": "8b1e3f8f-f52a-4abf-8037-4a9ffc4d9ed2",
   "metadata": {},
   "outputs": [
    {
     "data": {
      "text/plain": [
       "array([False, False, False,  True,  True])"
      ]
     },
     "execution_count": 39,
     "metadata": {},
     "output_type": "execute_result"
    }
   ],
   "source": [
    "x > 2"
   ]
  },
  {
   "cell_type": "code",
   "execution_count": 40,
   "id": "d8c35371-132e-491a-83e3-36f2fd8e8771",
   "metadata": {},
   "outputs": [
    {
     "data": {
      "text/plain": [
       "array([3, 4])"
      ]
     },
     "execution_count": 40,
     "metadata": {},
     "output_type": "execute_result"
    }
   ],
   "source": [
    "z = x[x > 2]\n",
    "z"
   ]
  },
  {
   "cell_type": "code",
   "execution_count": 41,
   "id": "e14c0007-c8a1-42c1-9dac-12979211fdf2",
   "metadata": {},
   "outputs": [
    {
     "data": {
      "text/plain": [
       "7"
      ]
     },
     "execution_count": 41,
     "metadata": {},
     "output_type": "execute_result"
    }
   ],
   "source": [
    "sum_elements_more_than_2 = np.sum(x[x > 2])\n",
    "sum_elements_more_than_2"
   ]
  },
  {
   "cell_type": "code",
   "execution_count": 42,
   "id": "9138b891-7705-430b-bc75-cf7bab1d81eb",
   "metadata": {},
   "outputs": [
    {
     "data": {
      "text/plain": [
       "array([False, False,  True, False, False])"
      ]
     },
     "execution_count": 42,
     "metadata": {},
     "output_type": "execute_result"
    }
   ],
   "source": [
    "(x > 1) & (x < 3)"
   ]
  },
  {
   "cell_type": "code",
   "execution_count": 43,
   "id": "d4ff7d9f-3bf4-48de-89b4-768aaa730b63",
   "metadata": {},
   "outputs": [
    {
     "data": {
      "text/plain": [
       "array([2])"
      ]
     },
     "execution_count": 43,
     "metadata": {},
     "output_type": "execute_result"
    }
   ],
   "source": [
    "x[(x > 1) & (x < 3)]"
   ]
  },
  {
   "cell_type": "code",
   "execution_count": 44,
   "id": "2a7d8877-fee1-4567-b33b-5f9b0c90b30d",
   "metadata": {},
   "outputs": [
    {
     "data": {
      "text/plain": [
       "array([False, False, False,  True,  True])"
      ]
     },
     "execution_count": 44,
     "metadata": {},
     "output_type": "execute_result"
    }
   ],
   "source": [
    "x > 2"
   ]
  },
  {
   "cell_type": "code",
   "execution_count": 45,
   "id": "e905dcdd-00c2-45aa-941e-625730bd9f78",
   "metadata": {},
   "outputs": [
    {
     "data": {
      "text/plain": [
       "2"
      ]
     },
     "execution_count": 45,
     "metadata": {},
     "output_type": "execute_result"
    }
   ],
   "source": [
    "np.sum(x > 2)"
   ]
  },
  {
   "cell_type": "code",
   "execution_count": 46,
   "id": "4f96e061-83c4-4cad-be92-676b80db8193",
   "metadata": {},
   "outputs": [
    {
     "data": {
      "text/plain": [
       "2"
      ]
     },
     "execution_count": 46,
     "metadata": {},
     "output_type": "execute_result"
    }
   ],
   "source": [
    "len(x[x > 2])"
   ]
  },
  {
   "cell_type": "code",
   "execution_count": 47,
   "id": "370b2310-19dc-416e-b167-fc410fead816",
   "metadata": {},
   "outputs": [
    {
     "data": {
      "text/plain": [
       "(5,)"
      ]
     },
     "execution_count": 47,
     "metadata": {},
     "output_type": "execute_result"
    }
   ],
   "source": [
    "x.shape"
   ]
  },
  {
   "cell_type": "markdown",
   "id": "00af603c-32a1-40cc-91a7-e2c71397b857",
   "metadata": {},
   "source": [
    "# Macierze"
   ]
  },
  {
   "cell_type": "code",
   "execution_count": 48,
   "id": "64cf181d-005e-4144-994e-b828d2034e00",
   "metadata": {},
   "outputs": [],
   "source": [
    "x = np.array(\n",
    "    [[1, 2, 3, 4],\n",
    "    [5, 6, 7 ,8],\n",
    "    [9, 10, 11, 12]]\n",
    ")"
   ]
  },
  {
   "cell_type": "code",
   "execution_count": 49,
   "id": "d7535320-4a8d-4f27-9676-9f3e70110b97",
   "metadata": {},
   "outputs": [
    {
     "data": {
      "text/plain": [
       "array([[ 1,  2,  3,  4],\n",
       "       [ 5,  6,  7,  8],\n",
       "       [ 9, 10, 11, 12]])"
      ]
     },
     "execution_count": 49,
     "metadata": {},
     "output_type": "execute_result"
    }
   ],
   "source": [
    "x"
   ]
  },
  {
   "cell_type": "code",
   "execution_count": 50,
   "id": "58c035ab-7618-4c0e-85af-766e99d5a95a",
   "metadata": {},
   "outputs": [
    {
     "data": {
      "text/plain": [
       "(3, 4)"
      ]
     },
     "execution_count": 50,
     "metadata": {},
     "output_type": "execute_result"
    }
   ],
   "source": [
    "x.shape"
   ]
  },
  {
   "cell_type": "code",
   "execution_count": 51,
   "id": "f100f977-1836-4a7d-bb0c-ff0af80addf9",
   "metadata": {},
   "outputs": [
    {
     "data": {
      "text/plain": [
       "7"
      ]
     },
     "execution_count": 51,
     "metadata": {},
     "output_type": "execute_result"
    }
   ],
   "source": [
    "x[1, 2]"
   ]
  },
  {
   "cell_type": "code",
   "execution_count": 52,
   "id": "bee8704b-91b3-4001-a6fd-2446c9beecbd",
   "metadata": {},
   "outputs": [
    {
     "data": {
      "text/plain": [
       "array([[ 5,  6],\n",
       "       [ 9, 10]])"
      ]
     },
     "execution_count": 52,
     "metadata": {},
     "output_type": "execute_result"
    }
   ],
   "source": [
    "x[1:3, 0:2]"
   ]
  },
  {
   "cell_type": "code",
   "execution_count": 53,
   "id": "3675ea8b-923e-445b-a106-454754a52703",
   "metadata": {},
   "outputs": [
    {
     "data": {
      "text/plain": [
       "array([ 9, 10, 11, 12])"
      ]
     },
     "execution_count": 53,
     "metadata": {},
     "output_type": "execute_result"
    }
   ],
   "source": [
    "x[2, :]"
   ]
  },
  {
   "cell_type": "code",
   "execution_count": 54,
   "id": "805e385a-a931-4e6d-9237-8c57a7385f90",
   "metadata": {},
   "outputs": [
    {
     "data": {
      "text/plain": [
       "array([ 9, 10, 11, 12])"
      ]
     },
     "execution_count": 54,
     "metadata": {},
     "output_type": "execute_result"
    }
   ],
   "source": [
    "x[2]"
   ]
  },
  {
   "cell_type": "code",
   "execution_count": 55,
   "id": "b4e6efd3-b9d7-47ff-865e-ee2ce1173828",
   "metadata": {},
   "outputs": [
    {
     "data": {
      "text/plain": [
       "array([ 4,  8, 12])"
      ]
     },
     "execution_count": 55,
     "metadata": {},
     "output_type": "execute_result"
    }
   ],
   "source": [
    "x[:, 3]"
   ]
  },
  {
   "cell_type": "code",
   "execution_count": 56,
   "id": "58bc9c26-ed23-497d-8dc9-56a15c0e8a62",
   "metadata": {},
   "outputs": [
    {
     "data": {
      "text/plain": [
       "1"
      ]
     },
     "execution_count": 56,
     "metadata": {},
     "output_type": "execute_result"
    }
   ],
   "source": [
    "x.min()"
   ]
  },
  {
   "cell_type": "code",
   "execution_count": 58,
   "id": "21e9cd9a-06dd-422a-8ca2-6597d48694f7",
   "metadata": {},
   "outputs": [
    {
     "data": {
      "text/plain": [
       "1"
      ]
     },
     "execution_count": 58,
     "metadata": {},
     "output_type": "execute_result"
    }
   ],
   "source": [
    "np.min(x)"
   ]
  },
  {
   "cell_type": "code",
   "execution_count": 65,
   "id": "012bdbef-15fb-41d3-9793-03cb811535f8",
   "metadata": {},
   "outputs": [
    {
     "data": {
      "text/plain": [
       "array([5., 6., 7., 8.])"
      ]
     },
     "execution_count": 65,
     "metadata": {},
     "output_type": "execute_result"
    }
   ],
   "source": [
    "# srednia po kolumnach\n",
    "x.mean(0)"
   ]
  },
  {
   "cell_type": "code",
   "execution_count": 66,
   "id": "6b2ed84a-dc3a-4e7f-a433-67a984748ca7",
   "metadata": {},
   "outputs": [
    {
     "data": {
      "text/plain": [
       "array([ 2.5,  6.5, 10.5])"
      ]
     },
     "execution_count": 66,
     "metadata": {},
     "output_type": "execute_result"
    }
   ],
   "source": [
    "# średnia po wierszach\n",
    "x.mean(1)"
   ]
  },
  {
   "cell_type": "code",
   "execution_count": 67,
   "id": "3bec6db7-4e8e-4960-af10-07c1b8ac5c93",
   "metadata": {},
   "outputs": [
    {
     "data": {
      "text/plain": [
       "array([[11, 12, 13, 14],\n",
       "       [15, 16, 17, 18],\n",
       "       [19, 20, 21, 22]])"
      ]
     },
     "execution_count": 67,
     "metadata": {},
     "output_type": "execute_result"
    }
   ],
   "source": [
    "x + 10"
   ]
  },
  {
   "cell_type": "code",
   "execution_count": 69,
   "id": "e362a022-31a9-4a88-bfde-c0f1ad315127",
   "metadata": {},
   "outputs": [
    {
     "data": {
      "text/plain": [
       "array([[ 10,  20,  30,  40],\n",
       "       [ 50,  60,  70,  80],\n",
       "       [ 90, 100, 110, 120]])"
      ]
     },
     "execution_count": 69,
     "metadata": {},
     "output_type": "execute_result"
    }
   ],
   "source": [
    "y = x * 10\n",
    "y"
   ]
  },
  {
   "cell_type": "code",
   "execution_count": 70,
   "id": "a5ced17f-25a4-4455-b0d6-ba753c8beced",
   "metadata": {},
   "outputs": [
    {
     "data": {
      "text/plain": [
       "array([[ 11,  22,  33,  44],\n",
       "       [ 55,  66,  77,  88],\n",
       "       [ 99, 110, 121, 132]])"
      ]
     },
     "execution_count": 70,
     "metadata": {},
     "output_type": "execute_result"
    }
   ],
   "source": [
    "x + y"
   ]
  },
  {
   "cell_type": "code",
   "execution_count": 76,
   "id": "84761f11-e19f-427d-a867-65cd7fd81649",
   "metadata": {},
   "outputs": [],
   "source": [
    "a = np.array([1, 2, 3, 4])"
   ]
  },
  {
   "cell_type": "code",
   "execution_count": 77,
   "id": "79d1c277-5404-4228-9ac7-2c538aae6597",
   "metadata": {},
   "outputs": [
    {
     "data": {
      "text/plain": [
       "array([1, 2, 3, 4])"
      ]
     },
     "execution_count": 77,
     "metadata": {},
     "output_type": "execute_result"
    }
   ],
   "source": [
    "a"
   ]
  },
  {
   "cell_type": "code",
   "execution_count": 78,
   "id": "d33a8b4a-0fe2-47dd-ba0d-1540695fb485",
   "metadata": {},
   "outputs": [
    {
     "data": {
      "text/plain": [
       "array([[ 2,  4,  6,  8],\n",
       "       [ 6,  8, 10, 12],\n",
       "       [10, 12, 14, 16]])"
      ]
     },
     "execution_count": 78,
     "metadata": {},
     "output_type": "execute_result"
    }
   ],
   "source": [
    "x + a\n",
    "# tzw. mechanizm broadcasting'u, rozszerzenie kształtu"
   ]
  },
  {
   "cell_type": "code",
   "execution_count": 81,
   "id": "c8d74e92-a77f-44d2-82a2-7bdb08f17067",
   "metadata": {},
   "outputs": [
    {
     "data": {
      "text/plain": [
       "array([[100],\n",
       "       [200],\n",
       "       [300]])"
      ]
     },
     "execution_count": 81,
     "metadata": {},
     "output_type": "execute_result"
    }
   ],
   "source": [
    "b = np.array([\n",
    "    [100],\n",
    "    [200],\n",
    "    [300]\n",
    "]\n",
    ")\n",
    "b"
   ]
  },
  {
   "cell_type": "code",
   "execution_count": 82,
   "id": "36e9a37b-4b8a-4631-9bf5-0fa5ef72fa52",
   "metadata": {},
   "outputs": [
    {
     "data": {
      "text/plain": [
       "(3, 1)"
      ]
     },
     "execution_count": 82,
     "metadata": {},
     "output_type": "execute_result"
    }
   ],
   "source": [
    "b.shape"
   ]
  },
  {
   "cell_type": "code",
   "execution_count": 83,
   "id": "41838e35-8965-4c75-b177-c35863a5979e",
   "metadata": {},
   "outputs": [
    {
     "data": {
      "text/plain": [
       "(4,)"
      ]
     },
     "execution_count": 83,
     "metadata": {},
     "output_type": "execute_result"
    }
   ],
   "source": [
    "a.shape"
   ]
  },
  {
   "cell_type": "code",
   "execution_count": 84,
   "id": "8d70b5a3-54dd-40b0-8fe1-b1f2e4036a9b",
   "metadata": {},
   "outputs": [
    {
     "data": {
      "text/plain": [
       "array([[101, 102, 103, 104],\n",
       "       [205, 206, 207, 208],\n",
       "       [309, 310, 311, 312]])"
      ]
     },
     "execution_count": 84,
     "metadata": {},
     "output_type": "execute_result"
    }
   ],
   "source": [
    "x + b"
   ]
  },
  {
   "cell_type": "code",
   "execution_count": 85,
   "id": "eeb13eab-b78a-4c8d-a346-3038f7b7d78a",
   "metadata": {},
   "outputs": [
    {
     "ename": "ValueError",
     "evalue": "operands could not be broadcast together with shapes (3,4) (2,) ",
     "output_type": "error",
     "traceback": [
      "\u001b[0;31m---------------------------------------------------------------------------\u001b[0m",
      "\u001b[0;31mValueError\u001b[0m                                Traceback (most recent call last)",
      "Cell \u001b[0;32mIn[85], line 1\u001b[0m\n\u001b[0;32m----> 1\u001b[0m x \u001b[38;5;241m+\u001b[39m np\u001b[38;5;241m.\u001b[39marray([\u001b[38;5;241m1\u001b[39m, \u001b[38;5;241m2\u001b[39m])\n",
      "\u001b[0;31mValueError\u001b[0m: operands could not be broadcast together with shapes (3,4) (2,) "
     ]
    }
   ],
   "source": [
    "x + np.array([1, 2])"
   ]
  },
  {
   "cell_type": "code",
   "execution_count": 89,
   "id": "eadc9c27-8f7b-4d74-aafd-4dcfa92c4432",
   "metadata": {},
   "outputs": [
    {
     "data": {
      "text/plain": [
       "array([ 9, 10, 11, 12])"
      ]
     },
     "execution_count": 89,
     "metadata": {},
     "output_type": "execute_result"
    }
   ],
   "source": [
    "# max w każdej kolumnie\n",
    "max_in_col = x.max(0)\n",
    "max_in_col"
   ]
  },
  {
   "cell_type": "code",
   "execution_count": 90,
   "id": "0ac7cd53-b7ef-4406-be04-baf2f801ab68",
   "metadata": {},
   "outputs": [
    {
     "data": {
      "text/plain": [
       "array([[0.11111111, 0.2       , 0.27272727, 0.33333333],\n",
       "       [0.55555556, 0.6       , 0.63636364, 0.66666667],\n",
       "       [1.        , 1.        , 1.        , 1.        ]])"
      ]
     },
     "execution_count": 90,
     "metadata": {},
     "output_type": "execute_result"
    }
   ],
   "source": [
    "x/max_in_col"
   ]
  },
  {
   "cell_type": "code",
   "execution_count": 91,
   "id": "544c5192-5b2e-48d1-a61b-2851e0d4dcf5",
   "metadata": {},
   "outputs": [
    {
     "data": {
      "text/plain": [
       "array([[-4., -4., -4., -4.],\n",
       "       [ 0.,  0.,  0.,  0.],\n",
       "       [ 4.,  4.,  4.,  4.]])"
      ]
     },
     "execution_count": 91,
     "metadata": {},
     "output_type": "execute_result"
    }
   ],
   "source": [
    "# odjęcie średniej o z każdej kolumny\n",
    "x - x.mean(0)"
   ]
  },
  {
   "cell_type": "code",
   "execution_count": 93,
   "id": "4f327eb6-8584-4af8-8624-391da35dce70",
   "metadata": {},
   "outputs": [
    {
     "data": {
      "text/plain": [
       "array([[1, 2, 3],\n",
       "       [4, 5, 6]])"
      ]
     },
     "execution_count": 93,
     "metadata": {},
     "output_type": "execute_result"
    }
   ],
   "source": [
    "# Matematyczne mnożenie macierzy (nie element po elemencie)\n",
    "A = np.array([\n",
    "    [1, 2, 3],\n",
    "    [4, 5, 6]\n",
    "])\n",
    "A"
   ]
  },
  {
   "cell_type": "code",
   "execution_count": 95,
   "id": "e58a3ae8-767d-4399-bb8a-fa7b7c6563f5",
   "metadata": {},
   "outputs": [
    {
     "data": {
      "text/plain": [
       "array([[1, 2],\n",
       "       [3, 4],\n",
       "       [5, 6]])"
      ]
     },
     "execution_count": 95,
     "metadata": {},
     "output_type": "execute_result"
    }
   ],
   "source": [
    "B = np.array([\n",
    "    [1, 2],\n",
    "    [3, 4],\n",
    "    [5, 6]\n",
    "])\n",
    "B"
   ]
  },
  {
   "cell_type": "code",
   "execution_count": 96,
   "id": "150da2ba-6211-446c-bbd2-1ecb8bdf8698",
   "metadata": {},
   "outputs": [
    {
     "data": {
      "text/plain": [
       "(2, 3)"
      ]
     },
     "execution_count": 96,
     "metadata": {},
     "output_type": "execute_result"
    }
   ],
   "source": [
    "A.shape"
   ]
  },
  {
   "cell_type": "code",
   "execution_count": 97,
   "id": "84f6c7b6-dce1-4e07-922b-4945d78274da",
   "metadata": {},
   "outputs": [
    {
     "data": {
      "text/plain": [
       "(3, 2)"
      ]
     },
     "execution_count": 97,
     "metadata": {},
     "output_type": "execute_result"
    }
   ],
   "source": [
    "B.shape"
   ]
  },
  {
   "cell_type": "code",
   "execution_count": 98,
   "id": "744e5c62-22fd-4fa2-851c-bf4f436480b9",
   "metadata": {},
   "outputs": [
    {
     "data": {
      "text/plain": [
       "array([[22, 28],\n",
       "       [49, 64]])"
      ]
     },
     "execution_count": 98,
     "metadata": {},
     "output_type": "execute_result"
    }
   ],
   "source": [
    "np.dot(A, B)"
   ]
  },
  {
   "cell_type": "code",
   "execution_count": 99,
   "id": "e3f963b4-7fc6-4016-9da5-6b675d23c2bb",
   "metadata": {},
   "outputs": [
    {
     "data": {
      "text/plain": [
       "array([[ 9, 12, 15],\n",
       "       [19, 26, 33],\n",
       "       [29, 40, 51]])"
      ]
     },
     "execution_count": 99,
     "metadata": {},
     "output_type": "execute_result"
    }
   ],
   "source": [
    "np.dot(B, A)"
   ]
  },
  {
   "cell_type": "code",
   "execution_count": 100,
   "id": "a00ea6aa-3296-42b6-8b98-41d3f3f33ecd",
   "metadata": {},
   "outputs": [
    {
     "data": {
      "text/plain": [
       "array([[1, 2, 3],\n",
       "       [4, 5, 6]])"
      ]
     },
     "execution_count": 100,
     "metadata": {},
     "output_type": "execute_result"
    }
   ],
   "source": [
    "A"
   ]
  },
  {
   "cell_type": "code",
   "execution_count": 101,
   "id": "9d96d6e1-7cc5-4d8d-b677-4de3ea7d8126",
   "metadata": {},
   "outputs": [
    {
     "data": {
      "text/plain": [
       "(2, 3)"
      ]
     },
     "execution_count": 101,
     "metadata": {},
     "output_type": "execute_result"
    }
   ],
   "source": [
    "A.shape"
   ]
  },
  {
   "cell_type": "code",
   "execution_count": 102,
   "id": "de6706af-0a2d-496c-a54c-1d52844029e0",
   "metadata": {},
   "outputs": [
    {
     "data": {
      "text/plain": [
       "array([[1, 2],\n",
       "       [3, 4],\n",
       "       [5, 6]])"
      ]
     },
     "execution_count": 102,
     "metadata": {},
     "output_type": "execute_result"
    }
   ],
   "source": [
    "A.reshape((3,2))"
   ]
  },
  {
   "cell_type": "code",
   "execution_count": 105,
   "id": "0632a82e-b415-47a6-afd3-fd63ab9ca845",
   "metadata": {},
   "outputs": [
    {
     "data": {
      "text/plain": [
       "array([[1],\n",
       "       [2],\n",
       "       [3],\n",
       "       [4],\n",
       "       [5],\n",
       "       [6]])"
      ]
     },
     "execution_count": 105,
     "metadata": {},
     "output_type": "execute_result"
    }
   ],
   "source": [
    "A.reshape((6, 1))"
   ]
  },
  {
   "cell_type": "code",
   "execution_count": 106,
   "id": "a9d0c355-47ae-411c-8926-6fd34847ccad",
   "metadata": {},
   "outputs": [
    {
     "data": {
      "text/plain": [
       "array([[1],\n",
       "       [2],\n",
       "       [3],\n",
       "       [4],\n",
       "       [5],\n",
       "       [6]])"
      ]
     },
     "execution_count": 106,
     "metadata": {},
     "output_type": "execute_result"
    }
   ],
   "source": [
    "# jak nie znamy ilości elementów dokładnie to można tak\n",
    "A.reshape((6, -1))"
   ]
  },
  {
   "cell_type": "code",
   "execution_count": 107,
   "id": "cf5a6464-2d26-4ad4-b3dd-126f0016d34b",
   "metadata": {},
   "outputs": [
    {
     "ename": "ValueError",
     "evalue": "cannot reshape array of size 6 into shape (5,newaxis)",
     "output_type": "error",
     "traceback": [
      "\u001b[0;31m---------------------------------------------------------------------------\u001b[0m",
      "\u001b[0;31mValueError\u001b[0m                                Traceback (most recent call last)",
      "Cell \u001b[0;32mIn[107], line 1\u001b[0m\n\u001b[0;32m----> 1\u001b[0m A\u001b[38;5;241m.\u001b[39mreshape((\u001b[38;5;241m5\u001b[39m, \u001b[38;5;241m-\u001b[39m\u001b[38;5;241m1\u001b[39m))\n",
      "\u001b[0;31mValueError\u001b[0m: cannot reshape array of size 6 into shape (5,newaxis)"
     ]
    }
   ],
   "source": [
    "A.reshape((5, -1))"
   ]
  },
  {
   "cell_type": "code",
   "execution_count": 108,
   "id": "2a3e65d6-f14b-4a59-9c7a-457fbf4907e4",
   "metadata": {},
   "outputs": [
    {
     "data": {
      "text/plain": [
       "array([[1, 2],\n",
       "       [3, 4],\n",
       "       [5, 6]])"
      ]
     },
     "execution_count": 108,
     "metadata": {},
     "output_type": "execute_result"
    }
   ],
   "source": [
    "A.reshape((3, -1))"
   ]
  },
  {
   "cell_type": "code",
   "execution_count": 109,
   "id": "50d813af-f888-4650-8ef9-8946139e6264",
   "metadata": {},
   "outputs": [
    {
     "data": {
      "text/plain": [
       "array([1, 2, 3, 4, 5, 6])"
      ]
     },
     "execution_count": 109,
     "metadata": {},
     "output_type": "execute_result"
    }
   ],
   "source": [
    "# zamiana macierzy na tab jednowymiarową\n",
    "A.reshape(-1)"
   ]
  },
  {
   "cell_type": "markdown",
   "id": "fdcd5332-ce96-4e44-9912-3a8a989caea0",
   "metadata": {},
   "source": [
    "# Użyteczne funkcjonalności"
   ]
  },
  {
   "cell_type": "code",
   "execution_count": 112,
   "id": "2ec8d836-033c-4437-8d2d-ddf01073ed95",
   "metadata": {},
   "outputs": [
    {
     "data": {
      "text/plain": [
       "array([0., 0., 0.])"
      ]
     },
     "execution_count": 112,
     "metadata": {},
     "output_type": "execute_result"
    }
   ],
   "source": [
    "np.zeros(3)"
   ]
  },
  {
   "cell_type": "code",
   "execution_count": 113,
   "id": "dd24a2f0-8606-4a2a-9eff-b23cc09b2aa9",
   "metadata": {},
   "outputs": [
    {
     "data": {
      "text/plain": [
       "array([[0., 0., 0., 0., 0.],\n",
       "       [0., 0., 0., 0., 0.],\n",
       "       [0., 0., 0., 0., 0.]])"
      ]
     },
     "execution_count": 113,
     "metadata": {},
     "output_type": "execute_result"
    }
   ],
   "source": [
    "np.zeros((3,5))"
   ]
  },
  {
   "cell_type": "code",
   "execution_count": 114,
   "id": "c4539703-c469-45c3-9516-26c4e6c7bb54",
   "metadata": {},
   "outputs": [
    {
     "data": {
      "text/plain": [
       "array([[1., 1.],\n",
       "       [1., 1.]])"
      ]
     },
     "execution_count": 114,
     "metadata": {},
     "output_type": "execute_result"
    }
   ],
   "source": [
    "np.ones((2,2))"
   ]
  },
  {
   "cell_type": "code",
   "execution_count": 118,
   "id": "81e248c9-9d27-49f7-a037-38dc6184f8c8",
   "metadata": {},
   "outputs": [
    {
     "data": {
      "text/plain": [
       "array([1, 2, 3])"
      ]
     },
     "execution_count": 118,
     "metadata": {},
     "output_type": "execute_result"
    }
   ],
   "source": [
    "a = np.array([1, 2, 3])\n",
    "a"
   ]
  },
  {
   "cell_type": "code",
   "execution_count": 119,
   "id": "01591534-4326-4953-9bb7-7576eea6e823",
   "metadata": {},
   "outputs": [
    {
     "data": {
      "text/plain": [
       "array([1, 1, 1])"
      ]
     },
     "execution_count": 119,
     "metadata": {},
     "output_type": "execute_result"
    }
   ],
   "source": [
    "np.ones_like(a)"
   ]
  },
  {
   "cell_type": "code",
   "execution_count": 125,
   "id": "2f23b9b4-2e87-42fb-a3fa-584607532171",
   "metadata": {},
   "outputs": [
    {
     "data": {
      "text/plain": [
       "array([ 0,  5, 10, 15, 20, 25, 30, 35, 40, 45])"
      ]
     },
     "execution_count": 125,
     "metadata": {},
     "output_type": "execute_result"
    }
   ],
   "source": [
    "# tworzy tablice od 0 - pierwszy argument włącznie, do 50 - drugi argument bez tej wartości, z krokiem 5 - trzeci argument\n",
    "np.arange(0, 50, 5)"
   ]
  },
  {
   "cell_type": "code",
   "execution_count": 127,
   "id": "05f16241-d0d7-47b3-8d66-bbaca120ec3b",
   "metadata": {},
   "outputs": [
    {
     "data": {
      "text/plain": [
       "array([0.        , 0.33333333, 0.66666667, 1.        ])"
      ]
     },
     "execution_count": 127,
     "metadata": {},
     "output_type": "execute_result"
    }
   ],
   "source": [
    "# tworzy tablica od 0 - pierwszy argument włącznie, do 4 - drugi argument włącznie,\n",
    "# o długości/ilości elementów 4 - trzeci argument, wartości są równoodległe od siebie\n",
    "np.linspace(0, 1, 4)"
   ]
  },
  {
   "cell_type": "code",
   "execution_count": 129,
   "id": "f8b8ef90-5f45-44a5-94f9-3e68e6630e03",
   "metadata": {},
   "outputs": [
    {
     "data": {
      "text/plain": [
       "array([1.06882163, 1.68982774, 2.77022603, 1.20386036, 1.43616701])"
      ]
     },
     "execution_count": 129,
     "metadata": {},
     "output_type": "execute_result"
    }
   ],
   "source": [
    "# losowe wartości od 0 - pierwszy argument, do 3 - drugi argument, w ilości 5 - trzeci argument, z rozkładu normalnego\n",
    "# każda wartość równie prawdopodobna\n",
    "np.random.uniform(0, 3, 5)"
   ]
  },
  {
   "cell_type": "code",
   "execution_count": 134,
   "id": "fffc000a-9b97-449a-babe-3286b46e094c",
   "metadata": {},
   "outputs": [
    {
     "data": {
      "text/plain": [
       "array([ 0, -1,  2, -3,  4, -5,  6, -7,  8, -9])"
      ]
     },
     "execution_count": 134,
     "metadata": {},
     "output_type": "execute_result"
    }
   ],
   "source": [
    "x = np.array([0, -1, 2, -3, 4, -5, 6, -7, 8, -9])\n",
    "x"
   ]
  },
  {
   "cell_type": "code",
   "execution_count": 135,
   "id": "31142e6f-90cf-41bb-be5c-85bd7033e50c",
   "metadata": {},
   "outputs": [
    {
     "data": {
      "text/plain": [
       "8"
      ]
     },
     "execution_count": 135,
     "metadata": {},
     "output_type": "execute_result"
    }
   ],
   "source": [
    "np.argmax(x)"
   ]
  },
  {
   "cell_type": "code",
   "execution_count": 136,
   "id": "78650bda-429d-4703-9d6c-8db52280efe8",
   "metadata": {},
   "outputs": [
    {
     "data": {
      "text/plain": [
       "8"
      ]
     },
     "execution_count": 136,
     "metadata": {},
     "output_type": "execute_result"
    }
   ],
   "source": [
    "x.argmax()"
   ]
  },
  {
   "cell_type": "code",
   "execution_count": 137,
   "id": "7a77cacb-c53d-4d79-ba8c-3ad0e7be6401",
   "metadata": {},
   "outputs": [
    {
     "data": {
      "text/plain": [
       "9"
      ]
     },
     "execution_count": 137,
     "metadata": {},
     "output_type": "execute_result"
    }
   ],
   "source": [
    "np.argmin(x)"
   ]
  },
  {
   "cell_type": "code",
   "execution_count": 140,
   "id": "092018fd-eb0c-41bc-8d3e-eb938a7d9ca2",
   "metadata": {},
   "outputs": [
    {
     "data": {
      "text/plain": [
       "3"
      ]
     },
     "execution_count": 140,
     "metadata": {},
     "output_type": "execute_result"
    }
   ],
   "source": [
    "np.argmax(np.array([1, 2, 2, 3, 3, 3, 3]))"
   ]
  },
  {
   "cell_type": "code",
   "execution_count": 141,
   "id": "dc1dbf5f-af5f-4a80-a21b-e3ddcb8b6e0f",
   "metadata": {},
   "outputs": [
    {
     "data": {
      "text/plain": [
       "(array([6, 8]),)"
      ]
     },
     "execution_count": 141,
     "metadata": {},
     "output_type": "execute_result"
    }
   ],
   "source": [
    "np.where(x > 5)"
   ]
  },
  {
   "cell_type": "code",
   "execution_count": 142,
   "id": "a8bcbd87-9ac2-4976-9515-17a96948d77f",
   "metadata": {},
   "outputs": [
    {
     "data": {
      "text/plain": [
       "array([6, 8])"
      ]
     },
     "execution_count": 142,
     "metadata": {},
     "output_type": "execute_result"
    }
   ],
   "source": [
    "np.where(x > 5)[0]"
   ]
  },
  {
   "cell_type": "code",
   "execution_count": 143,
   "id": "156b78d1-19c8-46cd-9706-5a8f848cefeb",
   "metadata": {},
   "outputs": [
    {
     "data": {
      "text/plain": [
       "array([0, 0, 0, 0, 0, 0, 5, 0, 5, 0])"
      ]
     },
     "execution_count": 143,
     "metadata": {},
     "output_type": "execute_result"
    }
   ],
   "source": [
    "np.where(x > 5, 5, 0)"
   ]
  },
  {
   "cell_type": "code",
   "execution_count": 144,
   "id": "eab85ead-3e75-441a-a803-84f486cb8dc5",
   "metadata": {},
   "outputs": [
    {
     "data": {
      "text/plain": [
       "array([-9, -7, -5, -3, -1,  0,  2,  4,  6,  8])"
      ]
     },
     "execution_count": 144,
     "metadata": {},
     "output_type": "execute_result"
    }
   ],
   "source": [
    "np.unique(x)"
   ]
  },
  {
   "cell_type": "code",
   "execution_count": 145,
   "id": "3e146470-7b41-4ad1-82c9-663ba6ecfdda",
   "metadata": {},
   "outputs": [
    {
     "data": {
      "text/plain": [
       "(array([-9, -7, -5, -3, -1,  0,  2,  4,  6,  8]),\n",
       " array([1, 1, 1, 1, 1, 1, 1, 1, 1, 1]))"
      ]
     },
     "execution_count": 145,
     "metadata": {},
     "output_type": "execute_result"
    }
   ],
   "source": [
    "np.unique(x, return_counts = True)"
   ]
  },
  {
   "cell_type": "code",
   "execution_count": 147,
   "id": "413d364b-2ba5-44e8-b64c-89c351c33014",
   "metadata": {},
   "outputs": [
    {
     "data": {
      "text/plain": [
       "array([-9, -7, -5, -3, -1,  0,  2,  4,  6,  8])"
      ]
     },
     "execution_count": 147,
     "metadata": {},
     "output_type": "execute_result"
    }
   ],
   "source": [
    "np.sort(x)"
   ]
  },
  {
   "cell_type": "code",
   "execution_count": 148,
   "id": "d832937b-d30d-4066-844a-53768f146f53",
   "metadata": {},
   "outputs": [
    {
     "data": {
      "text/plain": [
       "array([9, 7, 5, 3, 1, 0, 2, 4, 6, 8])"
      ]
     },
     "execution_count": 148,
     "metadata": {},
     "output_type": "execute_result"
    }
   ],
   "source": [
    "np.argsort(x)"
   ]
  },
  {
   "cell_type": "code",
   "execution_count": 150,
   "id": "abcda75e-40cf-4f0a-b2bb-b3c9cda009d2",
   "metadata": {},
   "outputs": [
    {
     "data": {
      "text/plain": [
       "array([-9, -7, -5, -3, -1,  0,  2,  4,  6,  8])"
      ]
     },
     "execution_count": 150,
     "metadata": {},
     "output_type": "execute_result"
    }
   ],
   "source": [
    "x[np.argsort(x)]"
   ]
  },
  {
   "cell_type": "markdown",
   "id": "b6984a01-f20d-4caa-96af-b57a1a94a0aa",
   "metadata": {},
   "source": [
    "# Brak danych"
   ]
  },
  {
   "cell_type": "code",
   "execution_count": 152,
   "id": "158c532e-262c-4fff-8af7-b8e26dbc2a9d",
   "metadata": {},
   "outputs": [
    {
     "data": {
      "text/plain": [
       "array([ 1.,  2., nan,  4., nan])"
      ]
     },
     "execution_count": 152,
     "metadata": {},
     "output_type": "execute_result"
    }
   ],
   "source": [
    "x = np.array([1, 2, np.nan, 4, np.nan])\n",
    "x"
   ]
  },
  {
   "cell_type": "code",
   "execution_count": 155,
   "id": "c681e65d-e899-459d-a4e3-a5f429e191d6",
   "metadata": {},
   "outputs": [
    {
     "data": {
      "text/plain": [
       "5"
      ]
     },
     "execution_count": 155,
     "metadata": {},
     "output_type": "execute_result"
    }
   ],
   "source": [
    "len(x)"
   ]
  },
  {
   "cell_type": "code",
   "execution_count": 157,
   "id": "f77de140-c348-49a8-a0be-96737b50436b",
   "metadata": {},
   "outputs": [
    {
     "data": {
      "text/plain": [
       "array([False, False,  True, False,  True])"
      ]
     },
     "execution_count": 157,
     "metadata": {},
     "output_type": "execute_result"
    }
   ],
   "source": [
    "np.isnan(x)"
   ]
  },
  {
   "cell_type": "code",
   "execution_count": 158,
   "id": "23ceb05a-09f4-4e91-9a27-1ed8628c53fb",
   "metadata": {},
   "outputs": [
    {
     "data": {
      "text/plain": [
       "2"
      ]
     },
     "execution_count": 158,
     "metadata": {},
     "output_type": "execute_result"
    }
   ],
   "source": [
    "np.sum(np.isnan(x))"
   ]
  },
  {
   "cell_type": "code",
   "execution_count": 159,
   "id": "c81e34a6-885c-49dc-a26f-66a613d9e753",
   "metadata": {},
   "outputs": [
    {
     "data": {
      "text/plain": [
       "nan"
      ]
     },
     "execution_count": 159,
     "metadata": {},
     "output_type": "execute_result"
    }
   ],
   "source": [
    "np.sum(x)"
   ]
  },
  {
   "cell_type": "code",
   "execution_count": 162,
   "id": "9068d97e-ce0c-4632-add9-b585c09c09cb",
   "metadata": {},
   "outputs": [
    {
     "data": {
      "text/plain": [
       "7.0"
      ]
     },
     "execution_count": 162,
     "metadata": {},
     "output_type": "execute_result"
    }
   ],
   "source": [
    "np.sum(x[~np.isnan(x)])"
   ]
  },
  {
   "cell_type": "markdown",
   "id": "f1d194ab-eee5-485f-921f-f9efa63875e1",
   "metadata": {},
   "source": [
    "# Zadania\n",
    "## Zadanie 1.3.1\n",
    " \n",
    "\n",
    "Zaimportuj bibliotekę numpy (użyj aliasu np). Zdefiniuj dwie tablice:\n",
    "\n",
    "x = np.arange(0, 60, 10)\n",
    "y = np.array([7, 35, 22, 19, 40, 39])\n",
    "\n",
    "a następnie:\n",
    "\n",
    "* Oblicz na ilu pozycjach wartości w wektorze x są większe niż w wektorze y.\n",
    "* Oblicz jaka jest średnia różnica między wartościami w wektorach x i y.\n",
    "* Oblicz jaka jest średnia z wartości bezwzględnych różnic między wartościami w\n",
    "wektorach x i y.\n",
    "\n",
    "* Oblicz jaka jest średnia z wartość kwadratu różnic między wartościami w wektorach x i y.\n",
    "* Oblicz na ilu pozycjach wektory x i y różnią się o więcej niż 10.\n",
    "* Zwróć te wartości z tablicy x, których pierwiastek nie różni się o więcej niż 1 od pierwiastka z wartości w wektorze y, stojących na odpowiadających im pozycjach.\n",
    "* Zwróć te elementy z wektora x, które od wartości najmniejszej w wektorze x nie różnią się o więcej niż 30.\n",
    "* Zamień w wektorze x wartości większe niż średnia z wartości wektora x na wartość 10.\n",
    " \n",
    "\n",
    "## Zadanie 1.3.2\n",
    " \n",
    "\n",
    "* Często stosowanym zabiegiem podczas przygotowywania danych do nauki algorytmów uczenia maszynowego jest standaryzacja danych, która polega na tym, że w każdej kolumnie danej macierzy liczb od wszystkich wartości wartości w kolumnie odejmujemy średnią z kolumny i dzielimy te różnice przez odchylenie standardowe w danej kolumnie. Zaimplementuj standaryzację i dla przykładowej macierzy oblicz średnie i odchylenia standardowe w kolumnach po standaryzacji.\n",
    "* Czasem również wykorzystywane jest przekształcenie polegające na tym, że dzielimy wartości w każdej kolumnie przez wartość największą w danej kolumnie. Zaimplementuj tę transformację i dla przykładowej macierzy o wartościach dodatnich, oblicz wartości maksymalne w kolumnach po takim przekształceniu macierzy.\n",
    "* Innym użytecznym zabiegiem jest tzw. normalizacja wierszy, która może być realizowana w różnych wariantach. Zaimplementuj normalizację macierzy polegającą na tym, że każdy wiersz (wszystkie wartości w wierszu) dzielimy przez sumę wartości w danym wierszu oraz taką, która polega na tym, że wiersze dzielimy przez pierwiastek z sumy kwadratów wartości w danym wierszu (czyli przez tzw. normę euklidesową wektora)."
   ]
  },
  {
   "cell_type": "code",
   "execution_count": 164,
   "id": "8779f251-7679-4a30-bc45-6bb6f74dd2ce",
   "metadata": {},
   "outputs": [],
   "source": [
    "# 1.3.1\n",
    "x = np.arange(0, 60, 10)\n",
    "y = np.array([7, 35, 22, 19, 40, 39])"
   ]
  },
  {
   "cell_type": "code",
   "execution_count": 165,
   "id": "0493d9d9-a909-497d-b81e-718938fdea5b",
   "metadata": {},
   "outputs": [
    {
     "data": {
      "text/plain": [
       "array([ 0, 10, 20, 30, 40, 50])"
      ]
     },
     "execution_count": 165,
     "metadata": {},
     "output_type": "execute_result"
    }
   ],
   "source": [
    "x"
   ]
  },
  {
   "cell_type": "code",
   "execution_count": 166,
   "id": "41a17c8e-1d9c-4cd1-a531-4f8be5380713",
   "metadata": {},
   "outputs": [
    {
     "data": {
      "text/plain": [
       "array([ 7, 35, 22, 19, 40, 39])"
      ]
     },
     "execution_count": 166,
     "metadata": {},
     "output_type": "execute_result"
    }
   ],
   "source": [
    "y"
   ]
  },
  {
   "cell_type": "code",
   "execution_count": 167,
   "id": "f9b9f687-61ec-4190-ac26-d4886e09321e",
   "metadata": {},
   "outputs": [
    {
     "data": {
      "text/plain": [
       "2"
      ]
     },
     "execution_count": 167,
     "metadata": {},
     "output_type": "execute_result"
    }
   ],
   "source": [
    "np.sum(x > y)"
   ]
  },
  {
   "cell_type": "code",
   "execution_count": 170,
   "id": "da1f5b30-e3cb-4cd5-90ed-af715038af47",
   "metadata": {},
   "outputs": [
    {
     "data": {
      "text/plain": [
       "-2.0"
      ]
     },
     "execution_count": 170,
     "metadata": {},
     "output_type": "execute_result"
    }
   ],
   "source": [
    "np.mean(x - y)"
   ]
  },
  {
   "cell_type": "code",
   "execution_count": 171,
   "id": "2f96f0ba-1f93-4828-9d81-ff9f7939684a",
   "metadata": {},
   "outputs": [
    {
     "data": {
      "text/plain": [
       "9.333333333333334"
      ]
     },
     "execution_count": 171,
     "metadata": {},
     "output_type": "execute_result"
    }
   ],
   "source": [
    "np.mean(np.abs(x - y))"
   ]
  },
  {
   "cell_type": "code",
   "execution_count": 172,
   "id": "59d4a182-2514-49ec-91b0-340b9ea377aa",
   "metadata": {},
   "outputs": [
    {
     "data": {
      "text/plain": [
       "153.33333333333334"
      ]
     },
     "execution_count": 172,
     "metadata": {},
     "output_type": "execute_result"
    }
   ],
   "source": [
    "np.mean((x - y)**2)"
   ]
  },
  {
   "cell_type": "code",
   "execution_count": 178,
   "id": "ca93bd02-244c-448f-a7d1-4c52c26fa7c7",
   "metadata": {},
   "outputs": [
    {
     "data": {
      "text/plain": [
       "3"
      ]
     },
     "execution_count": 178,
     "metadata": {},
     "output_type": "execute_result"
    }
   ],
   "source": [
    "np.sum(np.abs(x - y) > 10)"
   ]
  },
  {
   "cell_type": "code",
   "execution_count": 176,
   "id": "0e61f3f8-66b0-4276-8685-f1db0b3a2ff1",
   "metadata": {},
   "outputs": [
    {
     "data": {
      "text/plain": [
       "array([ 49, 625,   4, 121,   0, 121])"
      ]
     },
     "execution_count": 176,
     "metadata": {},
     "output_type": "execute_result"
    }
   ],
   "source": [
    "(x - y)**2"
   ]
  },
  {
   "cell_type": "code",
   "execution_count": 180,
   "id": "f8d8611a-c264-48cb-852d-d7c0ed083eb4",
   "metadata": {},
   "outputs": [
    {
     "data": {
      "text/plain": [
       "array([20, 40, 50])"
      ]
     },
     "execution_count": 180,
     "metadata": {},
     "output_type": "execute_result"
    }
   ],
   "source": [
    "x[np.abs(np.sqrt(x) - np.sqrt(y)) <= 1]"
   ]
  },
  {
   "cell_type": "code",
   "execution_count": 182,
   "id": "39fc812d-79ce-49bc-8103-d65876e1b130",
   "metadata": {},
   "outputs": [
    {
     "data": {
      "text/plain": [
       "array([ 0, 10, 20, 30])"
      ]
     },
     "execution_count": 182,
     "metadata": {},
     "output_type": "execute_result"
    }
   ],
   "source": [
    "x[(x - x.min()) <= 30]"
   ]
  },
  {
   "cell_type": "code",
   "execution_count": 183,
   "id": "5c93bd43-fffb-4614-bd4f-c67c5ffe6b33",
   "metadata": {},
   "outputs": [
    {
     "data": {
      "text/plain": [
       "array([ 0, 10, 20, 10, 10, 10])"
      ]
     },
     "execution_count": 183,
     "metadata": {},
     "output_type": "execute_result"
    }
   ],
   "source": [
    "np.where(x > x.mean(), 10, x) "
   ]
  },
  {
   "cell_type": "code",
   "execution_count": null,
   "id": "d1a4c4bb-efa6-4a46-b61c-305f90850d7e",
   "metadata": {},
   "outputs": [],
   "source": [
    "# 1.3.2\n"
   ]
  }
 ],
 "metadata": {
  "kernelspec": {
   "display_name": "Python 3 (ipykernel)",
   "language": "python",
   "name": "python3"
  },
  "language_info": {
   "codemirror_mode": {
    "name": "ipython",
    "version": 3
   },
   "file_extension": ".py",
   "mimetype": "text/x-python",
   "name": "python",
   "nbconvert_exporter": "python",
   "pygments_lexer": "ipython3",
   "version": "3.11.7"
  }
 },
 "nbformat": 4,
 "nbformat_minor": 5
}
