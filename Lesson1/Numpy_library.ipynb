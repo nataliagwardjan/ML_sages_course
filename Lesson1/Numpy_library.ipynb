{
 "cells": [
  {
   "cell_type": "code",
   "execution_count": 1,
   "id": "75a8d441-50ff-43ac-99e0-06db8584b60e",
   "metadata": {},
   "outputs": [],
   "source": [
    "import numpy as np"
   ]
  },
  {
   "cell_type": "code",
   "execution_count": 3,
   "id": "78d73c13-9741-459d-907d-008c924bd168",
   "metadata": {},
   "outputs": [
    {
     "data": {
      "text/plain": [
       "array([1, 2, 3, 4])"
      ]
     },
     "execution_count": 3,
     "metadata": {},
     "output_type": "execute_result"
    }
   ],
   "source": [
    "np.array([1,2,3,4])"
   ]
  },
  {
   "cell_type": "code",
   "execution_count": 4,
   "id": "c97407fc-ee2c-4704-ab70-d72c43c11c13",
   "metadata": {},
   "outputs": [
    {
     "data": {
      "text/plain": [
       "array(['a', 'b'], dtype='<U1')"
      ]
     },
     "execution_count": 4,
     "metadata": {},
     "output_type": "execute_result"
    }
   ],
   "source": [
    "np.array(['a', 'b'])"
   ]
  },
  {
   "cell_type": "code",
   "execution_count": 5,
   "id": "9a921479-50ef-442e-a741-7de891ea9e77",
   "metadata": {},
   "outputs": [
    {
     "data": {
      "text/plain": [
       "array(['a', '1', 'True'], dtype='<U21')"
      ]
     },
     "execution_count": 5,
     "metadata": {},
     "output_type": "execute_result"
    }
   ],
   "source": [
    "np.array(['a', 1, True])"
   ]
  },
  {
   "cell_type": "markdown",
   "id": "48c6de52-04ff-47d9-9e4d-f4075eacabdf",
   "metadata": {},
   "source": [
    "array cannot have elements with different type, when you try it it will be convert to most general type (in that case -> str)"
   ]
  },
  {
   "cell_type": "code",
   "execution_count": 6,
   "id": "e2fd5979-6868-4108-bcde-b035832d9abd",
   "metadata": {},
   "outputs": [
    {
     "data": {
      "text/plain": [
       "array([1, 2, 3, 4])"
      ]
     },
     "execution_count": 6,
     "metadata": {},
     "output_type": "execute_result"
    }
   ],
   "source": [
    "x = np.array([1,2,3,4])\n",
    "x"
   ]
  },
  {
   "cell_type": "code",
   "execution_count": 7,
   "id": "17f14789-c674-4520-b559-3f3771ab5e11",
   "metadata": {},
   "outputs": [
    {
     "data": {
      "text/plain": [
       "3"
      ]
     },
     "execution_count": 7,
     "metadata": {},
     "output_type": "execute_result"
    }
   ],
   "source": [
    "x[2]"
   ]
  },
  {
   "cell_type": "code",
   "execution_count": 8,
   "id": "f6eaed1d-2a37-4f91-972c-01ce1a6df3e6",
   "metadata": {},
   "outputs": [
    {
     "data": {
      "text/plain": [
       "array([2, 3])"
      ]
     },
     "execution_count": 8,
     "metadata": {},
     "output_type": "execute_result"
    }
   ],
   "source": [
    "x[1:3]"
   ]
  },
  {
   "cell_type": "code",
   "execution_count": 9,
   "id": "528ac5a5-d5a0-4581-8a7f-69640ec7fea4",
   "metadata": {},
   "outputs": [
    {
     "data": {
      "text/plain": [
       "array([1, 2, 3])"
      ]
     },
     "execution_count": 9,
     "metadata": {},
     "output_type": "execute_result"
    }
   ],
   "source": [
    "x[:3]"
   ]
  },
  {
   "cell_type": "code",
   "execution_count": 10,
   "id": "c412e13e-7c9d-4d06-98c7-459756e0f092",
   "metadata": {},
   "outputs": [
    {
     "data": {
      "text/plain": [
       "array([3, 1, 4])"
      ]
     },
     "execution_count": 10,
     "metadata": {},
     "output_type": "execute_result"
    }
   ],
   "source": [
    "x[[2,0,3]]"
   ]
  },
  {
   "cell_type": "code",
   "execution_count": 11,
   "id": "f7332865-fa9e-4379-a2bc-5913abe98e5f",
   "metadata": {},
   "outputs": [
    {
     "data": {
      "text/plain": [
       "array([1, 4])"
      ]
     },
     "execution_count": 11,
     "metadata": {},
     "output_type": "execute_result"
    }
   ],
   "source": [
    "x[[True, False, False, True]]"
   ]
  },
  {
   "cell_type": "code",
   "execution_count": 13,
   "id": "23551995-5643-4b11-bdd5-67726200a504",
   "metadata": {},
   "outputs": [
    {
     "data": {
      "text/plain": [
       "array([ 1, 20, 30,  4])"
      ]
     },
     "execution_count": 13,
     "metadata": {},
     "output_type": "execute_result"
    }
   ],
   "source": [
    "x[1:3] = [20, 30]\n",
    "x"
   ]
  },
  {
   "cell_type": "markdown",
   "id": "fa787e46-a4e4-4df7-bc5c-b1295111be4b",
   "metadata": {},
   "source": [
    "when you want use it numer of elements for both side should be equal, except when you want change all elements to the same value"
   ]
  },
  {
   "cell_type": "code",
   "execution_count": 14,
   "id": "7b48690d-4f47-4064-a532-9849e51e12a7",
   "metadata": {},
   "outputs": [
    {
     "data": {
      "text/plain": [
       "array([  1, 100, 100,   4])"
      ]
     },
     "execution_count": 14,
     "metadata": {},
     "output_type": "execute_result"
    }
   ],
   "source": [
    "x[1:3] = 100\n",
    "x"
   ]
  },
  {
   "cell_type": "code",
   "execution_count": null,
   "id": "0c5b3c84-16e3-41d0-bc11-99b0e5c84e43",
   "metadata": {},
   "outputs": [],
   "source": []
  }
 ],
 "metadata": {
  "kernelspec": {
   "display_name": "Python 3 (ipykernel)",
   "language": "python",
   "name": "python3"
  },
  "language_info": {
   "codemirror_mode": {
    "name": "ipython",
    "version": 3
   },
   "file_extension": ".py",
   "mimetype": "text/x-python",
   "name": "python",
   "nbconvert_exporter": "python",
   "pygments_lexer": "ipython3",
   "version": "3.11.7"
  }
 },
 "nbformat": 4,
 "nbformat_minor": 5
}
