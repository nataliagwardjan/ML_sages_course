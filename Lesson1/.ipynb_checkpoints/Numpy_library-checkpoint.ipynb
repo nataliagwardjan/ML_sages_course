{
 "cells": [
  {
   "cell_type": "code",
   "execution_count": 1,
   "id": "75a8d441-50ff-43ac-99e0-06db8584b60e",
   "metadata": {},
   "outputs": [],
   "source": [
    "import numpy as np"
   ]
  },
  {
   "cell_type": "code",
   "execution_count": null,
   "id": "78d73c13-9741-459d-907d-008c924bd168",
   "metadata": {},
   "outputs": [],
   "source": [
    "np.array([1,2,3,4)"
   ]
  }
 ],
 "metadata": {
  "kernelspec": {
   "display_name": "Python 3 (ipykernel)",
   "language": "python",
   "name": "python3"
  },
  "language_info": {
   "codemirror_mode": {
    "name": "ipython",
    "version": 3
   },
   "file_extension": ".py",
   "mimetype": "text/x-python",
   "name": "python",
   "nbconvert_exporter": "python",
   "pygments_lexer": "ipython3",
   "version": "3.11.7"
  }
 },
 "nbformat": 4,
 "nbformat_minor": 5
}
