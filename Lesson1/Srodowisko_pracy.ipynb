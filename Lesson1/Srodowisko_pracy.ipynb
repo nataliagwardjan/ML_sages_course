{
 "cells": [
  {
   "cell_type": "code",
   "execution_count": 1,
   "id": "f5b5fb45-edfe-4c5e-86a3-04a049630e23",
   "metadata": {},
   "outputs": [],
   "source": [
    "# Obsługa jupitera"
   ]
  },
  {
   "cell_type": "code",
   "execution_count": null,
   "id": "a01bf1f3-e011-4ba5-aa8d-3168f368e8d4",
   "metadata": {},
   "outputs": [],
   "source": [
    "# A - above, B - below add cell"
   ]
  },
  {
   "cell_type": "code",
   "execution_count": 2,
   "id": "c8a19a34-9d42-4cb5-9f8e-c8abbb8a063a",
   "metadata": {},
   "outputs": [],
   "source": [
    "# enter + shift - run code in cell and create new cell below"
   ]
  },
  {
   "cell_type": "code",
   "execution_count": 3,
   "id": "9f49703e-dcd1-477d-b238-c0021cdbb917",
   "metadata": {},
   "outputs": [],
   "source": [
    "# enter + command - run code in cell only"
   ]
  },
  {
   "cell_type": "code",
   "execution_count": 4,
   "id": "38c377d0-fbd3-423e-819c-ae48f118547e",
   "metadata": {},
   "outputs": [],
   "source": [
    "# call - code"
   ]
  },
  {
   "cell_type": "markdown",
   "id": "e3e36db5-d98e-45cb-b196-640ec733c127",
   "metadata": {},
   "source": [
    "cell - markdown, to change on that type select 'm' (to return to code cell select 'y')"
   ]
  },
  {
   "cell_type": "raw",
   "id": "acf12c5d-967f-4333-808d-8f6b753d33f6",
   "metadata": {},
   "source": [
    "cell - raw"
   ]
  },
  {
   "cell_type": "markdown",
   "id": "c8178278-6962-46c0-ba97-298057c16470",
   "metadata": {},
   "source": [
    "To not active cell select 'esc'"
   ]
  },
  {
   "cell_type": "markdown",
   "id": "8e990816-24c3-49f6-8f15-a6c78419836d",
   "metadata": {},
   "source": [
    "Point list:\n",
    "* first\n",
    "* second\n",
    "* third\n",
    "\n",
    "**bold** *italics*\n",
    "# Heading 1\n",
    "## Heading 2\n",
    "### Heading 3\n",
    "#### Heading 4\n",
    "There is not heading 5"
   ]
  },
  {
   "cell_type": "code",
   "execution_count": 5,
   "id": "4a753a7d-a4dc-4989-bb96-5549503a0869",
   "metadata": {},
   "outputs": [],
   "source": [
    "import os"
   ]
  },
  {
   "cell_type": "code",
   "execution_count": 6,
   "id": "6716fe39-e3ec-4966-a061-021aa45f64d8",
   "metadata": {},
   "outputs": [
    {
     "data": {
      "text/plain": [
       "'/Users/nataliagwardjan/Desktop/Natalia/Python/ML_sages_course/Lesson1'"
      ]
     },
     "execution_count": 6,
     "metadata": {},
     "output_type": "execute_result"
    }
   ],
   "source": [
    "os.getcwd()"
   ]
  },
  {
   "cell_type": "markdown",
   "id": "a29b1310-49a4-47d6-abab-1a6fa2d4756c",
   "metadata": {},
   "source": [
    "To remove cell press 'd' two times"
   ]
  },
  {
   "cell_type": "code",
   "execution_count": null,
   "id": "b40926d9-3bef-4db1-8b8e-d16fb1937936",
   "metadata": {},
   "outputs": [],
   "source": []
  }
 ],
 "metadata": {
  "kernelspec": {
   "display_name": "Python 3 (ipykernel)",
   "language": "python",
   "name": "python3"
  },
  "language_info": {
   "codemirror_mode": {
    "name": "ipython",
    "version": 3
   },
   "file_extension": ".py",
   "mimetype": "text/x-python",
   "name": "python",
   "nbconvert_exporter": "python",
   "pygments_lexer": "ipython3",
   "version": "3.11.7"
  }
 },
 "nbformat": 4,
 "nbformat_minor": 5
}
